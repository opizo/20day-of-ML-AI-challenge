{
  "nbformat": 4,
  "nbformat_minor": 0,
  "metadata": {
    "colab": {
      "provenance": [],
      "authorship_tag": "ABX9TyPDkfxm3AtvprUb05hOZm4k",
      "include_colab_link": true
    },
    "kernelspec": {
      "name": "python3",
      "display_name": "Python 3"
    },
    "language_info": {
      "name": "python"
    }
  },
  "cells": [
    {
      "cell_type": "markdown",
      "metadata": {
        "id": "view-in-github",
        "colab_type": "text"
      },
      "source": [
        "<a href=\"https://colab.research.google.com/github/opizo/20day-of-ML-AI-challenge/blob/main/Day_two_computing_missing%20_values_in_a_dataFrame.ipynb\" target=\"_parent\"><img src=\"https://colab.research.google.com/assets/colab-badge.svg\" alt=\"Open In Colab\"/></a>"
      ]
    },
    {
      "cell_type": "code",
      "execution_count": 12,
      "metadata": {
        "colab": {
          "base_uri": "https://localhost:8080/"
        },
        "id": "sFJw49afZ58Z",
        "outputId": "629546fc-5451-4e12-fe49-933560e8e8fe"
      },
      "outputs": [
        {
          "output_type": "stream",
          "name": "stdout",
          "text": [
            "PassengerId      0\n",
            "Survived         0\n",
            "Pclass           0\n",
            "Name             0\n",
            "Sex              0\n",
            "Age            177\n",
            "SibSp            0\n",
            "Parch            0\n",
            "Ticket           0\n",
            "Fare             0\n",
            "Cabin          687\n",
            "Embarked         2\n",
            "dtype: int64\n"
          ]
        }
      ],
      "source": [
        "import pandas as pd\n",
        "import matplotlib.pyplot as plt\n",
        "import numpy as np\n",
        "#Loading a CSV file named \"titanic.csv\" using Pandas and then printing the shape of the DataFrame\n",
        "data = pd.read_csv(\"/content/titanic.csv\")\n",
        "## Retrieving the data types of the columns in the DataFrame\n",
        "#Checking missing values in a dataFrame/computing the number of missing values (null values) in each column of the DataFrame\n",
        "missing_data = data.isnull().sum()\n",
        "print(missing_data)"
      ]
    }
  ]
}